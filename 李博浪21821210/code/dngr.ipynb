{
 "cells": [
  {
   "cell_type": "code",
   "execution_count": 1,
   "metadata": {},
   "outputs": [
    {
     "name": "stderr",
     "output_type": "stream",
     "text": [
      "Using TensorFlow backend.\n"
     ]
    }
   ],
   "source": [
    "from scipy.io import loadmat\n",
    "from sklearn.decomposition import PCA\n",
    "import numpy as np\n",
    "import pandas as pd\n",
    "import networkx as nx\n",
    "from keras.layers import Input, Dense, noise\n",
    "from keras.models import Model\n",
    "import matplotlib.pyplot as plt\n",
    "%matplotlib inline"
   ]
  },
  {
   "cell_type": "code",
   "execution_count": 2,
   "metadata": {},
   "outputs": [],
   "source": [
    "data_dir='./data/'"
   ]
  },
  {
   "cell_type": "code",
   "execution_count": 3,
   "metadata": {},
   "outputs": [],
   "source": [
    "def scale_sim_mat(mat):\n",
    "    mat  = mat - np.diag(np.diag(mat))\n",
    "    D_inv = np.diag(np.reciprocal(np.sum(mat,axis=0)))\n",
    "    mat = np.dot(D_inv,  mat)\n",
    "    return mat"
   ]
  },
  {
   "cell_type": "code",
   "execution_count": 4,
   "metadata": {},
   "outputs": [],
   "source": [
    "def get_data():\n",
    "    '''\n",
    "        获取数据\n",
    "    '''\n",
    "    label=loadmat(data_dir+'wine_label.mat')\n",
    "    data=loadmat(data_dir+'wine_network.mat')\n",
    "    label=label['wine_label']\n",
    "    data=data['adjMat'].reshape(len(label),-1)\n",
    "    #data=data/data.sum(axis=1).reshape(-1,1)\n",
    "    data=scale_sim_mat(data)\n",
    "    return data,label"
   ]
  },
  {
   "cell_type": "code",
   "execution_count": 5,
   "metadata": {},
   "outputs": [],
   "source": [
    "data,label=get_data()"
   ]
  },
  {
   "cell_type": "code",
   "execution_count": 6,
   "metadata": {},
   "outputs": [],
   "source": [
    "def random_surfing(matrix,alpha=0.98,steps=10):\n",
    "    nodes_count=len(matrix)\n",
    "    p0=np.eye(nodes_count,dtype='float64')\n",
    "    result=np.zeros((nodes_count,nodes_count),dtype='float64')\n",
    "    p=p0.copy()\n",
    "    for i in range(steps):\n",
    "        p=alpha*np.dot(p,matrix)+(1-alpha)*p0\n",
    "        result=result+p\n",
    "    #result=result/result.sum(axis=1).reshape(-1,1)\n",
    "    result=scale_sim_mat(result)\n",
    "    return result"
   ]
  },
  {
   "cell_type": "code",
   "execution_count": 7,
   "metadata": {},
   "outputs": [],
   "source": [
    "def get_PPMI(matrix):\n",
    "    \n",
    "    node_counts=len(matrix)\n",
    "    D=matrix.sum()\n",
    "    row_sum=matrix.sum(axis=1).reshape(-1,1)\n",
    "    column_sum=matrix.sum(axis=0).reshape(1,-1)\n",
    "    PPMI=np.log(np.divide(D*matrix,np.dot(row_sum,column_sum)))\n",
    "    PPMI[np.isnan(PPMI)]=0\n",
    "    PPMI[np.isinf(PPMI)] = 0.0\n",
    "    PPMI[np.isneginf(PPMI)] = 0.0\n",
    "    PPMI[PPMI<0]=0\n",
    "    return PPMI\n",
    "    "
   ]
  },
  {
   "cell_type": "code",
   "execution_count": 8,
   "metadata": {},
   "outputs": [],
   "source": [
    "def get_pca(data):\n",
    "\n",
    "    pca = PCA(n_components=2)\n",
    "    return pca.fit_transform(data)"
   ]
  },
  {
   "cell_type": "code",
   "execution_count": 9,
   "metadata": {},
   "outputs": [
    {
     "name": "stderr",
     "output_type": "stream",
     "text": [
      "/Library/Frameworks/Python.framework/Versions/3.6/lib/python3.6/site-packages/ipykernel_launcher.py:7: RuntimeWarning: divide by zero encountered in log\n",
      "  import sys\n"
     ]
    }
   ],
   "source": [
    "A=get_PPMI(random_surfing(get_data()[0]))"
   ]
  },
  {
   "cell_type": "code",
   "execution_count": 10,
   "metadata": {},
   "outputs": [],
   "source": [
    "def train(data,hidden_layer=3,hidden_neurons=[128,64,32]):\n",
    "    input_layer=Input(shape=(data.shape[1],))\n",
    "    encoder=noise.GaussianNoise(0.2)(input_layer)\n",
    "    for i in range(hidden_layer):\n",
    "        encoder=Dense(hidden_neurons[i],activation='relu')(encoder)\n",
    "        encoder=noise.GaussianNoise(0.2)(encoder)\n",
    "    decoder=Dense(hidden_neurons[-2],activation='relu')(encoder)\n",
    "    for j in range(hidden_layer-3,-1,-1):\n",
    "        decoder=Dense(hidden_neurons[j],activation='relu')(decoder)\n",
    "    decoder=Dense(data.shape[1],activation='sigmoid')(decoder)\n",
    "\n",
    "    sdae=Model(input=input_layer,output=decoder)\n",
    "    sdae.summary()\n",
    "    sdae.compile(optimizer='adadelta',loss='mse')\n",
    "    sdae.fit(data,data,steps_per_epoch=20,epochs=10)\n",
    "    return Model(input=input_layer,output=encoder)\n",
    "        "
   ]
  },
  {
   "cell_type": "code",
   "execution_count": 11,
   "metadata": {
    "collapsed": true
   },
   "outputs": [
    {
     "name": "stdout",
     "output_type": "stream",
     "text": [
      "WARNING:tensorflow:From /Library/Frameworks/Python.framework/Versions/3.6/lib/python3.6/site-packages/tensorflow/python/ops/control_flow_ops.py:423: colocate_with (from tensorflow.python.framework.ops) is deprecated and will be removed in a future version.\n",
      "Instructions for updating:\n",
      "Colocations handled automatically by placer.\n",
      "_________________________________________________________________\n",
      "Layer (type)                 Output Shape              Param #   \n",
      "=================================================================\n",
      "input_1 (InputLayer)         (None, 178)               0         \n",
      "_________________________________________________________________\n",
      "gaussian_noise_1 (GaussianNo (None, 178)               0         \n",
      "_________________________________________________________________\n",
      "dense_1 (Dense)              (None, 128)               22912     \n",
      "_________________________________________________________________\n",
      "gaussian_noise_2 (GaussianNo (None, 128)               0         \n",
      "_________________________________________________________________\n",
      "dense_2 (Dense)              (None, 64)                8256      \n",
      "_________________________________________________________________\n",
      "gaussian_noise_3 (GaussianNo (None, 64)                0         \n",
      "_________________________________________________________________\n",
      "dense_3 (Dense)              (None, 32)                2080      \n",
      "_________________________________________________________________\n",
      "gaussian_noise_4 (GaussianNo (None, 32)                0         \n",
      "_________________________________________________________________\n",
      "dense_4 (Dense)              (None, 64)                2112      \n",
      "_________________________________________________________________\n",
      "dense_5 (Dense)              (None, 128)               8320      \n",
      "_________________________________________________________________\n",
      "dense_6 (Dense)              (None, 178)               22962     \n",
      "=================================================================\n",
      "Total params: 66,642\n",
      "Trainable params: 66,642\n",
      "Non-trainable params: 0\n",
      "_________________________________________________________________\n",
      "WARNING:tensorflow:From /Library/Frameworks/Python.framework/Versions/3.6/lib/python3.6/site-packages/tensorflow/python/ops/math_ops.py:3066: to_int32 (from tensorflow.python.ops.math_ops) is deprecated and will be removed in a future version.\n",
      "Instructions for updating:\n",
      "Use tf.cast instead.\n"
     ]
    },
    {
     "name": "stderr",
     "output_type": "stream",
     "text": [
      "/Library/Frameworks/Python.framework/Versions/3.6/lib/python3.6/site-packages/ipykernel_launcher.py:12: UserWarning: Update your `Model` call to the Keras 2 API: `Model(inputs=Tensor(\"in..., outputs=Tensor(\"de...)`\n",
      "  if sys.path[0] == '':\n"
     ]
    },
    {
     "name": "stdout",
     "output_type": "stream",
     "text": [
      "Epoch 1/10\n",
      "20/20 [==============================] - 0s 18ms/step - loss: 0.2347\n",
      "Epoch 2/10\n",
      "20/20 [==============================] - 0s 3ms/step - loss: 0.2113\n",
      "Epoch 3/10\n",
      "20/20 [==============================] - 0s 3ms/step - loss: 0.1106\n",
      "Epoch 4/10\n",
      "20/20 [==============================] - 0s 3ms/step - loss: 0.0071\n",
      "Epoch 5/10\n",
      "20/20 [==============================] - 0s 3ms/step - loss: 0.0012\n",
      "Epoch 6/10\n",
      "20/20 [==============================] - 0s 3ms/step - loss: 6.3192e-04\n",
      "Epoch 7/10\n",
      "20/20 [==============================] - 0s 3ms/step - loss: 4.0192e-04\n",
      "Epoch 8/10\n",
      "20/20 [==============================] - 0s 3ms/step - loss: 3.0561e-04\n",
      "Epoch 9/10\n",
      "20/20 [==============================] - 0s 3ms/step - loss: 2.4912e-04\n",
      "Epoch 10/10\n",
      "20/20 [==============================] - 0s 3ms/step - loss: 2.2447e-04\n"
     ]
    },
    {
     "name": "stderr",
     "output_type": "stream",
     "text": [
      "/Library/Frameworks/Python.framework/Versions/3.6/lib/python3.6/site-packages/ipykernel_launcher.py:16: UserWarning: Update your `Model` call to the Keras 2 API: `Model(inputs=Tensor(\"in..., outputs=Tensor(\"ga...)`\n",
      "  app.launch_new_instance()\n"
     ]
    }
   ],
   "source": [
    "encoder=train(A)"
   ]
  },
  {
   "cell_type": "code",
   "execution_count": 12,
   "metadata": {},
   "outputs": [],
   "source": [
    "after=encoder.predict(A)\n",
    "after=get_pca(after)"
   ]
  },
  {
   "cell_type": "code",
   "execution_count": 13,
   "metadata": {},
   "outputs": [],
   "source": [
    "mean=after.mean(axis=0)\n",
    "squre=np.sqrt(np.mean(np.power((after-mean),2)))"
   ]
  },
  {
   "cell_type": "code",
   "execution_count": 15,
   "metadata": {},
   "outputs": [],
   "source": [
    "after=(after-mean)/squre"
   ]
  },
  {
   "cell_type": "code",
   "execution_count": 16,
   "metadata": {},
   "outputs": [],
   "source": [
    "label=label.reshape(-1,)"
   ]
  },
  {
   "cell_type": "code",
   "execution_count": 17,
   "metadata": {},
   "outputs": [
    {
     "name": "stderr",
     "output_type": "stream",
     "text": [
      "/Library/Frameworks/Python.framework/Versions/3.6/lib/python3.6/site-packages/matplotlib/legend.py:1270: UserWarning: You have mixed positional and keyword arguments, some input may be discarded.\n",
      "  warnings.warn(\"You have mixed positional and keyword arguments, some \"\n"
     ]
    },
    {
     "data": {
      "image/png": "[encoded data removed]",
      "text/plain": [
       "<Figure size 1440x720 with 1 Axes>"
      ]
     },
     "metadata": {
      "needs_background": "light"
     },
     "output_type": "display_data"
    }
   ],
   "source": [
    "\n",
    "df_after=pd.DataFrame(after)\n",
    "fig1 = plt.figure(1,figsize=(20,10))\n",
    "\n",
    "colors = ['b','g','r']\n",
    "Label_Com = ['Component 1','Component 2','Component 3']\n",
    "for index in range(3):\n",
    "    x = df_after.loc[label-1 == index][0]\n",
    "    y = df_after.loc[label-1 == index][1]\n",
    "    plt.scatter(x, y, c=colors[index])#, cmap='brg', s=40, marker='8')  \n",
    "\n",
    "#plt.ylim(0.01,0.09)\n",
    "\n",
    "ax = fig1.gca()\n",
    "for label_ in ax.xaxis.get_ticklabels():\n",
    "    label_.set_rotation(30)\n",
    "plt.xlabel('x')\n",
    "plt.ylabel('y')\n",
    "#added this to get the legend to work\n",
    "handles,labels = ax.get_legend_handles_labels()\n",
    "ax.legend(handles, labels = Label_Com, loc='upper right')\n",
    "\n",
    "plt.show()\n",
    "plt.close()"
   ]
  },
  {
   "cell_type": "code",
   "execution_count": null,
   "metadata": {},
   "outputs": [],
   "source": []
  },
  {
   "cell_type": "code",
   "execution_count": null,
   "metadata": {},
   "outputs": [],
   "source": []
  },
  {
   "cell_type": "code",
   "execution_count": null,
   "metadata": {},
   "outputs": [],
   "source": []
  }
 ],
 "metadata": {
  "kernelspec": {
   "display_name": "Python 3",
   "language": "python",
   "name": "python3"
  },
  "language_info": {
   "codemirror_mode": {
    "name": "ipython",
    "version": 3
   },
   "file_extension": ".py",
   "mimetype": "text/x-python",
   "name": "python",
   "nbconvert_exporter": "python",
   "pygments_lexer": "ipython3",
   "version": "3.6.7"
  }
 },
 "nbformat": 4,
 "nbformat_minor": 2
}
